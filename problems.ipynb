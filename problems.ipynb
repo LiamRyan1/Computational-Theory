{
 "cells": [
  {
   "cell_type": "markdown",
   "id": "bd39bca7-8391-4451-85fe-1e70f9bb7084",
   "metadata": {},
   "source": [
    "# Computational Theory Assement Problems"
   ]
  },
  {
   "cell_type": "markdown",
   "id": "733e34df-561f-43f2-97d2-918ac448c728",
   "metadata": {},
   "source": [
    "## Problem 1: Binary Words and Operations"
   ]
  },
  {
   "cell_type": "code",
   "execution_count": null,
   "id": "c4e94bf7-2b53-4c13-bd34-27e8ce4de4be",
   "metadata": {},
   "outputs": [],
   "source": [
    "import numpy as np\n",
    "# ^ = bitwise XOR\n",
    "\n",
    "def Parity(x,y,z):\n",
    "    return np.uint32(x) ^ np.uint32(y) ^ np.uint32(z)\n",
    "# & = bitwise and \n",
    "# ~ flips all bits i.e 0x00000000 -> 0xFFFFFFFF\n",
    "def Ch(x,y,z):\n",
    "    return (np.uint32(x) & np.uint32(y)) ^  (~np.uint32(~x & 0xFFFFFFFF) & np.uint32(z))\n",
    "\n"
   ]
  },
  {
   "cell_type": "markdown",
   "id": "9cde1b45-6cba-42b2-bb33-3ff030a2638a",
   "metadata": {},
   "source": [
    "## Problem 2: Fractional Parts of Cube Roots"
   ]
  },
  {
   "cell_type": "code",
   "execution_count": null,
   "id": "9271a3b9-0c3d-4fe0-b334-d4b4f76f7f6b",
   "metadata": {},
   "outputs": [],
   "source": []
  },
  {
   "cell_type": "markdown",
   "id": "08ebf8d7-1f78-4fdf-9d30-9a4d29834722",
   "metadata": {},
   "source": [
    "## Problem 3: Padding"
   ]
  },
  {
   "cell_type": "code",
   "execution_count": null,
   "id": "a3858238-3402-4031-a61d-8eaecc1de798",
   "metadata": {},
   "outputs": [],
   "source": []
  },
  {
   "cell_type": "markdown",
   "id": "00407388-b075-4405-8100-25eaf3e895d6",
   "metadata": {},
   "source": [
    "## Problem 4: Hashes"
   ]
  },
  {
   "cell_type": "code",
   "execution_count": null,
   "id": "86ae4337-a580-40e2-bdf3-8f6fbb711efb",
   "metadata": {},
   "outputs": [],
   "source": []
  },
  {
   "cell_type": "markdown",
   "id": "d7f7e719-a5c7-488f-bda1-7340a513509f",
   "metadata": {},
   "source": [
    "## Problem 5: Passwords"
   ]
  },
  {
   "cell_type": "code",
   "execution_count": null,
   "id": "82a73bda-8b25-416b-96d5-3fe2e43353e9",
   "metadata": {},
   "outputs": [],
   "source": []
  }
 ],
 "metadata": {
  "kernelspec": {
   "display_name": "Python 3 (ipykernel)",
   "language": "python",
   "name": "python3"
  },
  "language_info": {
   "codemirror_mode": {
    "name": "ipython",
    "version": 3
   },
   "file_extension": ".py",
   "mimetype": "text/x-python",
   "name": "python",
   "nbconvert_exporter": "python",
   "pygments_lexer": "ipython3",
   "version": "3.12.7"
  }
 },
 "nbformat": 4,
 "nbformat_minor": 5
}
