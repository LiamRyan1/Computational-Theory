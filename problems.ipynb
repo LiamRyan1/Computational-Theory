{
 "cells": [
  {
   "cell_type": "markdown",
   "id": "bd39bca7-8391-4451-85fe-1e70f9bb7084",
   "metadata": {},
   "source": [
    "# Computational Theory Assement Problems"
   ]
  },
  {
   "cell_type": "markdown",
   "id": "733e34df-561f-43f2-97d2-918ac448c728",
   "metadata": {},
   "source": [
    "## Problem 1: Binary Words and Operations"
   ]
  },
  {
   "cell_type": "code",
   "execution_count": 15,
   "id": "c4e94bf7-2b53-4c13-bd34-27e8ce4de4be",
   "metadata": {},
   "outputs": [
    {
     "name": "stdout",
     "output_type": "stream",
     "text": [
      "Right Rotation of 16 by 2 is \n",
      "4\n",
      "Left Rotation of 16 by 2 is \n",
      "64\n"
     ]
    }
   ],
   "source": [
    "import numpy as np\n",
    "#1.\n",
    "# ^ = bitwise XOR\n",
    "def Parity(x,y,z):\n",
    "    return np.uint32(x) ^ np.uint32(y) ^ np.uint32(z)\n",
    "#2.\n",
    "# & = bitwise and \n",
    "# ~ flips all bits i.e 0x00000000 -> 0xFFFFFFFF\n",
    "def Ch(x,y,z):\n",
    "    x = np.uint32(x)\n",
    "    y = np.uint32(y)\n",
    "    z = np.uint32(z)\n",
    "    return (x & y) ^ (~x & z)\n",
    "#3.\n",
    "def Maj(x,y,z):\n",
    "    x = np.uint32(x)\n",
    "    y = np.uint32(y)\n",
    "    z = np.uint32(z)\n",
    "    return (x & y) ^ (x & z) ^ (y & z)\n",
    "#4.\n",
    "# | = bitwise inclusive or\n",
    "# W = number of bits \n",
    "def ROTR(x,n):\n",
    "    x = np.uint32(x)\n",
    "    n = np.uint32(n)\n",
    "    w = 32\n",
    "    return ((x >> n) | (x << (w - n))) & 0xFFFFFFFF\n",
    "def ROTL(x,n):\n",
    "    x = np.uint32(x)\n",
    "    n = np.uint32(n)\n",
    "    w = 32\n",
    "    return ((x << n) | (x >> (w - n)))& 0xFFFFFFFF\n",
    "def SHR(x,n):\n",
    "    x = np.uint32(x)\n",
    "    n = np.uint32(n)\n",
    "    return x >> n\n",
    "def Sigma0(x):\n",
    "    x = np.uint32(x)\n",
    "    return ROTR(x,2) ^ ROTR(x,13) ^ ROTR(x,22)\n",
    "#5.\n",
    "def Sigma1(x):\n",
    "    x = np.uint32(x)\n",
    "    return ROTR(x,6) ^ ROTR(x,11) ^ SHR(x,25)\n",
    "#6.\n",
    "def Sigma0_2(x):\n",
    "    x = np.uint32(x)\n",
    "    return ROTR(x,7) ^ ROTR(x,18) ^ SHR(x,3)\n",
    "#7.\n",
    "def Sigma1_2(x):\n",
    "    x = np.uint32(x)\n",
    "    return ROTR(x,17) ^ ROTR(x,19) ^ SHR(x,10)\n",
    "print(\"Right Rotation of 16 by 2 is \")    \n",
    "print(ROTR(16,2))\n",
    "print(\"Left Rotation of 16 by 2 is \")   \n",
    "print(ROTL(16,2))\n",
    "\n",
    "#Testing and explanations needed "
   ]
  },
  {
   "cell_type": "markdown",
   "id": "9cde1b45-6cba-42b2-bb33-3ff030a2638a",
   "metadata": {},
   "source": [
    "## Problem 2: Fractional Parts of Cube Roots"
   ]
  },
  {
   "cell_type": "code",
   "execution_count": null,
   "id": "9271a3b9-0c3d-4fe0-b334-d4b4f76f7f6b",
   "metadata": {},
   "outputs": [],
   "source": [
    "\n",
    "def primes(n):\n",
    "    x = 0\n",
    "    y = 2\n",
    "    flag = False\n",
    "    for j in range(2, np.floor(np.sqrt(y)) + 1):\n",
    "        if(y % j == 0):\n",
    "            flag = False\n",
    "            break\n",
    "    if(flag):\n",
    "        #Create an array to add the primes then return at the end\n",
    "        x+=1\n",
    "    i+=1        "
   ]
  },
  {
   "cell_type": "markdown",
   "id": "08ebf8d7-1f78-4fdf-9d30-9a4d29834722",
   "metadata": {},
   "source": [
    "## Problem 3: Padding"
   ]
  },
  {
   "cell_type": "code",
   "execution_count": null,
   "id": "a3858238-3402-4031-a61d-8eaecc1de798",
   "metadata": {},
   "outputs": [],
   "source": []
  },
  {
   "cell_type": "markdown",
   "id": "00407388-b075-4405-8100-25eaf3e895d6",
   "metadata": {},
   "source": [
    "## Problem 4: Hashes"
   ]
  },
  {
   "cell_type": "code",
   "execution_count": null,
   "id": "86ae4337-a580-40e2-bdf3-8f6fbb711efb",
   "metadata": {},
   "outputs": [],
   "source": []
  },
  {
   "cell_type": "markdown",
   "id": "d7f7e719-a5c7-488f-bda1-7340a513509f",
   "metadata": {},
   "source": [
    "## Problem 5: Passwords"
   ]
  },
  {
   "cell_type": "code",
   "execution_count": null,
   "id": "82a73bda-8b25-416b-96d5-3fe2e43353e9",
   "metadata": {},
   "outputs": [],
   "source": []
  }
 ],
 "metadata": {
  "kernelspec": {
   "display_name": "Python 3",
   "language": "python",
   "name": "python3"
  },
  "language_info": {
   "codemirror_mode": {
    "name": "ipython",
    "version": 3
   },
   "file_extension": ".py",
   "mimetype": "text/x-python",
   "name": "python",
   "nbconvert_exporter": "python",
   "pygments_lexer": "ipython3",
   "version": "3.12.1"
  }
 },
 "nbformat": 4,
 "nbformat_minor": 5
}
