{
 "cells": [
  {
   "cell_type": "markdown",
   "id": "bd39bca7-8391-4451-85fe-1e70f9bb7084",
   "metadata": {},
   "source": [
    "# Computational Theory Assement Problems"
   ]
  },
  {
   "cell_type": "markdown",
   "id": "733e34df-561f-43f2-97d2-918ac448c728",
   "metadata": {},
   "source": [
    "## Problem 1: Binary Words and Operations"
   ]
  },
  {
   "cell_type": "code",
   "execution_count": 97,
   "id": "c4e94bf7-2b53-4c13-bd34-27e8ce4de4be",
   "metadata": {},
   "outputs": [],
   "source": [
    "import numpy as np"
   ]
  },
  {
   "cell_type": "code",
   "execution_count": 98,
   "id": "242f62c6",
   "metadata": {},
   "outputs": [],
   "source": [
    "#1.\n",
    "# ^ = bitwise XOR\n",
    "def Parity(x,y,z):\n",
    "    \"\"\"\n",
    "    Performs bitwise XOR(exclusive or) operation on each bit position of the 3 values\n",
    "    x == 0 y == 0 z == 0 result == 0\n",
    "    x == 1 y == 0 z == 0 result == 1 (returns 1 when odd number of 1's)\n",
    "    x == 1 y == 1 z == 0 result == 0 (returns 0 when even number of 1's)\n",
    "    x == 1 y == 1 z == 1 result == 1\n",
    "    Arg:\n",
    "\n",
    "    Parameters: \n",
    "    X: int \n",
    "    First 32 bit unsigned integer \n",
    "    Y: int\n",
    "    Second 32 bit unsigned integer\n",
    "    Z: int \n",
    "    Third 32 bit unsigned  integer\n",
    "\n",
    "    Returns:\n",
    "    np.uint32\n",
    "        value made up of results for each bit position of the 3 input XOR\n",
    "    \"\"\"\n",
    "    return np.uint32(x) ^ np.uint32(y) ^ np.uint32(z)"
   ]
  },
  {
   "cell_type": "code",
   "execution_count": 99,
   "id": "dafa83c8",
   "metadata": {},
   "outputs": [],
   "source": [
    "#2.\n",
    "# & = bitwise and \n",
    "# ~ = not operator (flips all bits i.e 0x00000000 -> 0xFFFFFFFF)\n",
    "def Ch(x,y,z):\n",
    "    \"\"\"\n",
    "    returns new value built from the taken bits of y and z based on the state of x\n",
    "\n",
    "    For each bit position in x check if the bit is 1.\n",
    "    if it is, take the corresponding bit in y \n",
    "    if not, take the corresponding bit in z\n",
    "\n",
    "    Parameters\n",
    "    ----------\n",
    "    X: int \n",
    "    First 32 bit unsigned integer \n",
    "    Y: int\n",
    "    Second 32 bit unsigned integer\n",
    "    Z: int \n",
    "    Third 32 bit unsigned integer\n",
    "\n",
    "    Returns\n",
    "    ---------\n",
    "    np.unit32 \n",
    "        value made from z and y based on the state of x\n",
    "    \"\"\"\n",
    "    x = np.uint32(x)\n",
    "    y = np.uint32(y)\n",
    "    z = np.uint32(z)\n",
    "    return (x & y) ^ (~x & z)"
   ]
  },
  {
   "cell_type": "code",
   "execution_count": 100,
   "id": "8e2f4819",
   "metadata": {},
   "outputs": [],
   "source": [
    "#3.\n",
    "def Maj(x,y,z):\n",
    "    \"\"\" \n",
    "    Returns 32 bit integer bitwise majority\n",
    "\n",
    "    For each bit position, returns 1 if two or more of the three inputs \n",
    "    have that bit set to 1 else returns 0.\n",
    "\n",
    "    Parameters\n",
    "    ---------\n",
    "    X: int \n",
    "    First 32 bit unsigned integer \n",
    "    Y: int\n",
    "    Second 32 bit unsigned integer\n",
    "    Z: int \n",
    "    Third 32 bit unsigned integer\n",
    "\n",
    "    Returns\n",
    "    ------- \n",
    "    np.uint32\n",
    "        value made up of the majority of each bit position of the 3 values\n",
    "    \"\"\"\n",
    "    x = np.uint32(x)\n",
    "    y = np.uint32(y)\n",
    "    z = np.uint32(z)\n",
    "\n",
    "    #For each bit position perform a bitwise AND between each of the 3 values\n",
    "    #which returns 1 if both bits are 1 or 0 in all other cases, then perform a 3 input XOR\n",
    "    #using the values returned from the AND comparisons \n",
    "\n",
    "    return (x & y) ^ (x & z) ^ (y & z)"
   ]
  },
  {
   "cell_type": "code",
   "execution_count": 101,
   "id": "f087860a",
   "metadata": {},
   "outputs": [],
   "source": [
    "#4.\n",
    "# | = bitwise inclusive or\n",
    "# W = number of bits \n",
    "# >> = shifts each bit to the right bits on the right fall off and are replaced on the left by 0's\n",
    "# i.e n = 3   11000-->00011\n",
    "# << = shifts each bit to the left bits on the left fall off and are replaced on the right by 0's\n",
    "#i.e n = 3 11001->01000\n",
    "def ROTR(x,n):\n",
    "    \"\"\" \n",
    "    Executes  rotate right (circular right shift) operation on 32 bit unsigned integer\n",
    "    Rotates all bits in X to the right by n.Any bits that fall off are wrapped to the left\n",
    "    end\n",
    "\n",
    "    Parameters\n",
    "    ---------\n",
    "    X: int \n",
    "    32 bit unsigned integer \n",
    "    N: int \n",
    "    number of bits to rotate x by 0-31\n",
    "\n",
    "    Returns\n",
    "    ------- \n",
    "    np.uint32\n",
    "        Resulting rotation of x by n bit positions\n",
    "        \n",
    "    \"\"\"\n",
    "    x = np.uint32(x)\n",
    "    n = np.uint32(n)\n",
    "    w = 32\n",
    "    #shifts each bit in x to the right by n positions\n",
    "    #left shift the bits of x by the bit size of x-n(32-n) \n",
    "    #combine both shifted values using bitwise OR to return the rotated result\n",
    "    #& 0xFFFFFFFF Ensures results remain within 32bits by zeroing any bits over 32\n",
    "    # https://stackoverflow.com/questions/10493411/what-is-bit-masking  I used this to understand how bitmasking works and why it might be nessarcary\n",
    "    return ((x >> n) | (x << (w - n))) & 0xFFFFFFFF "
   ]
  },
  {
   "cell_type": "code",
   "execution_count": 102,
   "id": "7711ec12",
   "metadata": {},
   "outputs": [],
   "source": [
    "def SHR(x,n):\n",
    "    \"\"\"Executes the right shift operation on a 32-bit integer.\n",
    "    shifts each bit position of x by n positions.Any bit that falls off is replaced by a 0 from the left end\n",
    "    \n",
    "    Parameters\n",
    "    ---------\n",
    "    X: int \n",
    "    32 bit unsigned integer \n",
    "    N: int \n",
    "    number of bits to shift x by 0-31\n",
    "\n",
    "    Returns\n",
    "    ------- \n",
    "    np.uint32\n",
    "        Resulting shift of x by n bit positions\n",
    "    \n",
    "    \"\"\"\n",
    "    x = np.uint32(x)\n",
    "    n = np.uint32(n)\n",
    "    #shift bit positions of x by n positions and return the shifted 32 bit integer\n",
    "    return np.uint32( x >> n)"
   ]
  },
  {
   "cell_type": "code",
   "execution_count": 103,
   "id": "1494bf4e",
   "metadata": {},
   "outputs": [],
   "source": [
    "def Sigma0(x):\n",
    "    \"\"\"\n",
    "    SHA-256 Sigma0 (Σ₀)\n",
    "\n",
    "    Performs 3 input XOR using 3 seperate right rotated values of x,\n",
    "      each with differing rotation sizes(2, 13, and 22 bit positions)\n",
    "\n",
    "    Parameters\n",
    "    ---------\n",
    "    X: int \n",
    "    32 bit unsigned integer \n",
    "\n",
    "    Returns\n",
    "    -------\n",
    "    np.uint32\n",
    "        Result of the 3 input XOR on the rotated values\n",
    "    \"\"\"\n",
    "    x = np.uint32(x)\n",
    "    return ROTR(x,2) ^ ROTR(x,13) ^ ROTR(x,22)"
   ]
  },
  {
   "cell_type": "code",
   "execution_count": 104,
   "id": "eedb6b41",
   "metadata": {},
   "outputs": [],
   "source": [
    "#5.\n",
    "def Sigma1(x):\n",
    "    \"\"\"\n",
    "    SHA-256 Sigma1 (Σ₁) function\n",
    "\n",
    "    Performs 3 input XOR using 3 seperate right rotated values of x,\n",
    "      each with differing rotation sizes(6, 11, and 25 bit positions) \n",
    "      \n",
    "\n",
    "    Parameters\n",
    "    ---------\n",
    "    X: int \n",
    "    32 bit unsigned integer \n",
    "\n",
    "    Returns\n",
    "    --------\n",
    "    np.uint32\n",
    "        Result of the 3 input XOR on the 3 rotated values \n",
    "    \"\"\"\n",
    "    x = np.uint32(x)\n",
    "    return ROTR(x,6) ^ ROTR(x,11) ^ ROTR(x,25)"
   ]
  },
  {
   "cell_type": "code",
   "execution_count": 105,
   "id": "70bbc647",
   "metadata": {},
   "outputs": [],
   "source": [
    "#6.\n",
    "def Sigma0_2(x):\n",
    "    \"\"\"\n",
    "    SHA-256 sigma0 (σ₀)\n",
    "\n",
    "    Performs 3 input XOR using 2 seperate right rotated values of x,\n",
    "      each with differing rotation sizes(7, and 18 bit positions) \n",
    "      and one right shifted value of x shifted by 3 bit positions\n",
    "\n",
    "    Parameters\n",
    "    ---------\n",
    "    X: int \n",
    "    32 bit integer \n",
    "\n",
    "    Returns\n",
    "    --------\n",
    "    np.uint32\n",
    "        Result of the 3 input XOR on the 2 rotated values of x and 1 right shifted value of x\n",
    "    \"\"\"\n",
    "    x = np.uint32(x)\n",
    "    return ROTR(x,7) ^ ROTR(x,18) ^ SHR(x,3)"
   ]
  },
  {
   "cell_type": "code",
   "execution_count": 106,
   "id": "4d177ab0",
   "metadata": {},
   "outputs": [],
   "source": [
    "#7.\n",
    "def Sigma1_2(x):\n",
    "    \"\"\"\n",
    "    SHA-256 sigma1 (σ₁)\n",
    "    Performs 3 input XOR using 2 seperate right rotated values of x\n",
    "      each with differing rotation sizes(17, and 19 bit positions) \n",
    "      and one right shifted value of x shifted by 10 bit positions\n",
    "      \n",
    "    Parameters\n",
    "    ---------\n",
    "    X: int \n",
    "    32 bit integer \n",
    "\n",
    "    Returns\n",
    "    --------\n",
    "    np.uint32\n",
    "        Result of the 3 input XOR on the 2 rotated values of x and 1 right shifted value of x\n",
    "    \"\"\"\n",
    "    x = np.uint32(x)\n",
    "    return ROTR(x,17) ^ ROTR(x,19) ^ SHR(x,10)"
   ]
  },
  {
   "cell_type": "code",
   "execution_count": 107,
   "id": "512da5a3",
   "metadata": {},
   "outputs": [
    {
     "name": "stdout",
     "output_type": "stream",
     "text": [
      "4027576335\n",
      "4042260735\n",
      "4293918960\n",
      "4\n",
      "3287825415\n",
      "3724550655\n",
      "4234150815\n",
      "1614782400\n"
     ]
    }
   ],
   "source": [
    "#TODO \n",
    "# Problem 1\n",
    "# Testing \n",
    "# Mark down explantions\n",
    "# Referencing\n",
    "\n",
    "\n",
    "x = 0xFFFF0000  \n",
    "y = 0xF0F0F0F0\n",
    "z = 0xFF0000FF\n",
    "\n",
    "P = Parity(x,y,z)\n",
    "print(P)\n",
    "\n",
    "\n",
    "C = Ch(x,y,z)\n",
    "print(C)\n",
    "\n",
    "M = Maj(x,y,z)\n",
    "print(M)\n",
    "\n",
    "RR = ROTR(16,2)\n",
    "print(RR)\n",
    "S0 = Sigma0(x)\n",
    "print(S0)\n",
    "S02 = Sigma0_2(x)\n",
    "print(S02)\n",
    "S1 = Sigma1(x)\n",
    "print(S1)\n",
    "S12 = Sigma1_2(x)\n",
    "print(S12)\n"
   ]
  },
  {
   "cell_type": "markdown",
   "id": "9cde1b45-6cba-42b2-bb33-3ff030a2638a",
   "metadata": {},
   "source": [
    "## Problem 2: Fractional Parts of Cube Roots"
   ]
  },
  {
   "cell_type": "code",
   "execution_count": null,
   "id": "9271a3b9-0c3d-4fe0-b334-d4b4f76f7f6b",
   "metadata": {},
   "outputs": [],
   "source": [
    "\"\"\"\n",
    "References: https://www.geeksforgeeks.org/dsa/generate-and-print-first-n-prime-numbers/ broke down how to find the first N prime numbers\n",
    "\"\"\"\n",
    "def primes(n):\n",
    "    #current number of found primes   \n",
    "    x = 0\n",
    "    #current number to check for prime\n",
    "    y = 2\n",
    "    #array to store prime numbers in\n",
    "    primes = []\n",
    "    #prime flagger\n",
    "    flag = False\n",
    "    #loop until n primes have been found\n",
    "    while(x < n):\n",
    "        #assume the number is prime\n",
    "        flag = True\n",
    "        #loop over \n",
    "        for j in range(2, int(np.floor(np.sqrt(y))) + 1):\n",
    "            if(y % j == 0):\n",
    "                flag = False\n",
    "                break\n",
    "        if(flag):\n",
    "            #Create an array to add the primes then return at the end\n",
    "            x+=1\n",
    "            primes.append(y)\n",
    "        y+=1    \n",
    "    return primes\n",
    "\n",
    "\n"
   ]
  },
  {
   "cell_type": "code",
   "execution_count": null,
   "id": "b19b91e3",
   "metadata": {},
   "outputs": [
    {
     "data": {
      "text/plain": [
       "[2, 3, 5, 7, 11]"
      ]
     },
     "execution_count": 165,
     "metadata": {},
     "output_type": "execute_result"
    }
   ],
   "source": [
    "primes(5)"
   ]
  },
  {
   "cell_type": "markdown",
   "id": "08ebf8d7-1f78-4fdf-9d30-9a4d29834722",
   "metadata": {},
   "source": [
    "## Problem 3: Padding"
   ]
  },
  {
   "cell_type": "code",
   "execution_count": null,
   "id": "a3858238-3402-4031-a61d-8eaecc1de798",
   "metadata": {},
   "outputs": [],
   "source": []
  },
  {
   "cell_type": "markdown",
   "id": "00407388-b075-4405-8100-25eaf3e895d6",
   "metadata": {},
   "source": [
    "## Problem 4: Hashes"
   ]
  },
  {
   "cell_type": "code",
   "execution_count": null,
   "id": "86ae4337-a580-40e2-bdf3-8f6fbb711efb",
   "metadata": {},
   "outputs": [],
   "source": []
  },
  {
   "cell_type": "markdown",
   "id": "d7f7e719-a5c7-488f-bda1-7340a513509f",
   "metadata": {},
   "source": [
    "## Problem 5: Passwords"
   ]
  },
  {
   "cell_type": "code",
   "execution_count": null,
   "id": "82a73bda-8b25-416b-96d5-3fe2e43353e9",
   "metadata": {},
   "outputs": [],
   "source": []
  }
 ],
 "metadata": {
  "kernelspec": {
   "display_name": "Python 3",
   "language": "python",
   "name": "python3"
  },
  "language_info": {
   "codemirror_mode": {
    "name": "ipython",
    "version": 3
   },
   "file_extension": ".py",
   "mimetype": "text/x-python",
   "name": "python",
   "nbconvert_exporter": "python",
   "pygments_lexer": "ipython3",
   "version": "3.12.1"
  }
 },
 "nbformat": 4,
 "nbformat_minor": 5
}
